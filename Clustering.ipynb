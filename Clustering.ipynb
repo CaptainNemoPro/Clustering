{
 "cells": [
  {
   "cell_type": "code",
   "execution_count": 2,
   "id": "54e0aada",
   "metadata": {},
   "outputs": [],
   "source": [
    "#Importing libraries\n",
    "import pandas as pd\n",
    "import numpy as np\n",
    "import nltk\n",
    "from nltk.corpus import stopwords\n",
    "from nltk.tokenize import word_tokenize\n",
    "from nltk.stem import WordNetLemmatizer\n",
    "from sklearn.feature_extraction.text import CountVectorizer\n",
    "from sklearn.cluster import KMeans\n",
    "import matplotlib.pyplot as plt"
   ]
  },
  {
   "cell_type": "code",
   "execution_count": 8,
   "id": "eb89bc41",
   "metadata": {},
   "outputs": [],
   "source": [
    "#Add tab seperator\n",
    "df = pd.read_csv('Restaurant_Reviews.tsv',sep='\\t')"
   ]
  },
  {
   "cell_type": "code",
   "execution_count": 9,
   "id": "4181218a",
   "metadata": {},
   "outputs": [
    {
     "data": {
      "text/html": [
       "<div>\n",
       "<style scoped>\n",
       "    .dataframe tbody tr th:only-of-type {\n",
       "        vertical-align: middle;\n",
       "    }\n",
       "\n",
       "    .dataframe tbody tr th {\n",
       "        vertical-align: top;\n",
       "    }\n",
       "\n",
       "    .dataframe thead th {\n",
       "        text-align: right;\n",
       "    }\n",
       "</style>\n",
       "<table border=\"1\" class=\"dataframe\">\n",
       "  <thead>\n",
       "    <tr style=\"text-align: right;\">\n",
       "      <th></th>\n",
       "      <th>Review</th>\n",
       "      <th>Liked</th>\n",
       "    </tr>\n",
       "  </thead>\n",
       "  <tbody>\n",
       "    <tr>\n",
       "      <th>0</th>\n",
       "      <td>Wow... Loved this place.</td>\n",
       "      <td>1</td>\n",
       "    </tr>\n",
       "    <tr>\n",
       "      <th>1</th>\n",
       "      <td>Crust is not good.</td>\n",
       "      <td>0</td>\n",
       "    </tr>\n",
       "    <tr>\n",
       "      <th>2</th>\n",
       "      <td>Not tasty and the texture was just nasty.</td>\n",
       "      <td>0</td>\n",
       "    </tr>\n",
       "    <tr>\n",
       "      <th>3</th>\n",
       "      <td>Stopped by during the late May bank holiday of...</td>\n",
       "      <td>1</td>\n",
       "    </tr>\n",
       "    <tr>\n",
       "      <th>4</th>\n",
       "      <td>The selection on the menu was great and so wer...</td>\n",
       "      <td>1</td>\n",
       "    </tr>\n",
       "    <tr>\n",
       "      <th>...</th>\n",
       "      <td>...</td>\n",
       "      <td>...</td>\n",
       "    </tr>\n",
       "    <tr>\n",
       "      <th>995</th>\n",
       "      <td>I think food should have flavor and texture an...</td>\n",
       "      <td>0</td>\n",
       "    </tr>\n",
       "    <tr>\n",
       "      <th>996</th>\n",
       "      <td>Appetite instantly gone.</td>\n",
       "      <td>0</td>\n",
       "    </tr>\n",
       "    <tr>\n",
       "      <th>997</th>\n",
       "      <td>Overall I was not impressed and would not go b...</td>\n",
       "      <td>0</td>\n",
       "    </tr>\n",
       "    <tr>\n",
       "      <th>998</th>\n",
       "      <td>The whole experience was underwhelming, and I ...</td>\n",
       "      <td>0</td>\n",
       "    </tr>\n",
       "    <tr>\n",
       "      <th>999</th>\n",
       "      <td>Then, as if I hadn't wasted enough of my life ...</td>\n",
       "      <td>0</td>\n",
       "    </tr>\n",
       "  </tbody>\n",
       "</table>\n",
       "<p>1000 rows × 2 columns</p>\n",
       "</div>"
      ],
      "text/plain": [
       "                                                Review  Liked\n",
       "0                             Wow... Loved this place.      1\n",
       "1                                   Crust is not good.      0\n",
       "2            Not tasty and the texture was just nasty.      0\n",
       "3    Stopped by during the late May bank holiday of...      1\n",
       "4    The selection on the menu was great and so wer...      1\n",
       "..                                                 ...    ...\n",
       "995  I think food should have flavor and texture an...      0\n",
       "996                           Appetite instantly gone.      0\n",
       "997  Overall I was not impressed and would not go b...      0\n",
       "998  The whole experience was underwhelming, and I ...      0\n",
       "999  Then, as if I hadn't wasted enough of my life ...      0\n",
       "\n",
       "[1000 rows x 2 columns]"
      ]
     },
     "execution_count": 9,
     "metadata": {},
     "output_type": "execute_result"
    }
   ],
   "source": [
    "df"
   ]
  },
  {
   "cell_type": "code",
   "execution_count": null,
   "id": "c97d1ed9",
   "metadata": {},
   "outputs": [],
   "source": [
    "lemmatizer = WordNetLemmatizer()"
   ]
  },
  {
   "cell_type": "code",
   "execution_count": 7,
   "id": "367e7f62",
   "metadata": {},
   "outputs": [],
   "source": [
    "#Function for datacleaning \n",
    "def datacleaning(x):\n",
    "#---------------------------------------------------------------------------------------------------------------------------    \n",
    "    #Removing stop words.\n",
    "    y=nltk.word_tokenize(x)\n",
    "    temp=[]\n",
    "    for i in y:\n",
    "      if i in stopwords.words(\"english\"): \n",
    "         pass\n",
    "      else:\n",
    "         temp.append(i)\n",
    "    my_new_string=' '.join(temp)\n",
    "#---------------------------------------------------------------------------------------------------------------------------        \n",
    "    #Lemmatizing the data.\n",
    "    c=nltk.word_tokenize(my_new_string)\n",
    "    my_list=[]\n",
    "    for i in c:\n",
    "        my_list.append(lemmatizer.lemmatize(i))\n",
    "        my_new_string_second=' '.join(my_list)\n",
    "#---------------------------------------------------------------------------------------------------------------------------            \n",
    "    #Removing the numbers from the data.\n",
    "        temp=[]\n",
    "    for i in my_new_string_second:\n",
    "      if i.isdigit(): \n",
    "         pass\n",
    "      else:\n",
    "        temp.append(i)\n",
    "    hi=''.join(temp)\n",
    "    return (hi.lower()) #Converting the data to lower case"
   ]
  },
  {
   "cell_type": "code",
   "execution_count": 10,
   "id": "fc170a7c",
   "metadata": {},
   "outputs": [],
   "source": [
    "df['Review_new'] = df['Review'].apply(datacleaning)"
   ]
  },
  {
   "cell_type": "code",
   "execution_count": 18,
   "id": "efa22d21",
   "metadata": {},
   "outputs": [],
   "source": [
    "x = df['Review_new']"
   ]
  },
  {
   "cell_type": "code",
   "execution_count": 19,
   "id": "8e66b8a8",
   "metadata": {},
   "outputs": [
    {
     "data": {
      "text/plain": [
       "CountVectorizer()"
      ]
     },
     "execution_count": 19,
     "metadata": {},
     "output_type": "execute_result"
    }
   ],
   "source": [
    "#Vectorizing the data\n",
    "vectorizer = CountVectorizer()\n",
    "vectorizer.fit(x)"
   ]
  },
  {
   "cell_type": "code",
   "execution_count": 20,
   "id": "25487aca",
   "metadata": {},
   "outputs": [
    {
     "data": {
      "text/plain": [
       "array(['absolute', 'absolutely', 'absolutley', 'accident',\n",
       "       'accommodation', 'accomodate', 'accordingly', 'accountant', 'ache',\n",
       "       'acknowledged', 'across', 'actual', 'actually', 'added',\n",
       "       'affordable', 'after', 'afternoon', 'again', 'ago', 'ahead',\n",
       "       'airline', 'airport', 'ala', 'albondigas', 'all', 'allergy',\n",
       "       'almond', 'almost', 'alone', 'also', 'although', 'always',\n",
       "       'amazing', 'ambiance', 'ambience', 'amount', 'ample', 'an', 'and',\n",
       "       'andddd', 'angry', 'annoying', 'another', 'anticipated', 'any',\n",
       "       'anymore', 'anyone', 'anything', 'anytime', 'anyway', 'anyways',\n",
       "       'apart', 'apologize', 'apology', 'app', 'appalling', 'apparently',\n",
       "       'appealing', 'appetite', 'appetizer', 'appetizers', 'apple',\n",
       "       'approval', 'are', 'area', 'arepas', 'aria', 'around', 'array',\n",
       "       'arrived', 'arrives', 'arriving', 'article', 'as', 'ask', 'asked',\n",
       "       'asking', 'assure', 'at', 'ate', 'atmosphere', 'atrocious',\n",
       "       'attached', 'attack', 'attention', 'attentive', 'attitude', 'auju',\n",
       "       'authentic', 'average', 'avocado', 'avoid', 'avoided', 'away',\n",
       "       'awesome', 'awful', 'awkward', 'awkwardly', 'ayce', 'az'],\n",
       "      dtype=object)"
      ]
     },
     "execution_count": 20,
     "metadata": {},
     "output_type": "execute_result"
    }
   ],
   "source": [
    "vectorizer.get_feature_names_out()[0:100]"
   ]
  },
  {
   "cell_type": "code",
   "execution_count": 22,
   "id": "901c41b2",
   "metadata": {},
   "outputs": [
    {
     "data": {
      "text/plain": [
       "<1000x1846 sparse matrix of type '<class 'numpy.int64'>'\n",
       "\twith 6005 stored elements in Compressed Sparse Row format>"
      ]
     },
     "execution_count": 22,
     "metadata": {},
     "output_type": "execute_result"
    }
   ],
   "source": [
    "vectorizer.transform(x)"
   ]
  },
  {
   "cell_type": "code",
   "execution_count": 24,
   "id": "d9dc8c26",
   "metadata": {},
   "outputs": [],
   "source": [
    "X_vectors = vectorizer.transform(x)"
   ]
  },
  {
   "cell_type": "code",
   "execution_count": 25,
   "id": "1295dcde",
   "metadata": {},
   "outputs": [
    {
     "data": {
      "text/plain": [
       "array(['absolute', 'absolutely', 'absolutley', ..., 'yum', 'yummy',\n",
       "       'zero'], dtype=object)"
      ]
     },
     "execution_count": 25,
     "metadata": {},
     "output_type": "execute_result"
    }
   ],
   "source": [
    "vectorizer.get_feature_names_out()"
   ]
  },
  {
   "cell_type": "code",
   "execution_count": 27,
   "id": "b81d1d06",
   "metadata": {},
   "outputs": [],
   "source": [
    "km = KMeans(n_clusters=5)"
   ]
  },
  {
   "cell_type": "code",
   "execution_count": 28,
   "id": "5b35b3c9",
   "metadata": {},
   "outputs": [],
   "source": [
    "km_model = km.fit(X_vectors)"
   ]
  },
  {
   "cell_type": "code",
   "execution_count": 29,
   "id": "83e5019b",
   "metadata": {},
   "outputs": [],
   "source": [
    "y_km = km.predict(X_vectors)"
   ]
  },
  {
   "cell_type": "code",
   "execution_count": 30,
   "id": "1daf3304",
   "metadata": {},
   "outputs": [
    {
     "data": {
      "text/plain": [
       "array([4, 0, 0, 0, 2, 0, 0, 1, 2, 2, 0, 0, 1, 0, 0, 0, 0, 0, 4, 0, 1, 1,\n",
       "       0, 1, 0, 0, 0, 2, 0, 1, 0, 0, 4, 4, 4, 1, 0, 0, 0, 0, 1, 0, 0, 2,\n",
       "       0, 1, 0, 1, 0, 0, 0, 0, 0, 0, 1, 2, 1, 0, 1, 1, 0, 4, 1, 0, 4, 2,\n",
       "       2, 0, 0, 2, 1, 0, 1, 0, 4, 1, 0, 1, 0, 0, 0, 4, 1, 4, 1, 0, 1, 0,\n",
       "       0, 0, 0, 0, 0, 0, 0, 0, 0, 0, 0, 0, 0, 1, 0, 0, 0, 0, 2, 1, 0, 0,\n",
       "       0, 0, 0, 0, 0, 0, 0, 0, 0, 4, 4, 0, 0, 1, 4, 0, 4, 0, 0, 0, 4, 0,\n",
       "       0, 1, 0, 2, 0, 0, 0, 2, 0, 1, 0, 0, 0, 1, 1, 1, 0, 0, 0, 2, 0, 0,\n",
       "       2, 0, 0, 0, 4, 0, 0, 0, 0, 0, 0, 0, 4, 0, 0, 0, 0, 0, 1, 0, 0, 0,\n",
       "       1, 1, 4, 0, 1, 0, 0, 0, 4, 0, 1, 0, 0, 0, 0, 0, 0, 0, 0, 1, 1, 0,\n",
       "       0, 0, 4, 2, 1, 2, 0, 0, 4, 1, 4, 1, 0, 0, 0, 0, 0, 0, 0, 1, 0, 0,\n",
       "       1, 1, 0, 0, 0, 0, 0, 1, 0, 4, 4, 0, 0, 0, 2, 0, 1, 0, 0, 0, 0, 0,\n",
       "       0, 0, 4, 0, 0, 4, 1, 0, 2, 0, 1, 4, 0, 0, 0, 0, 0, 0, 4, 0, 1, 0,\n",
       "       1, 0, 1, 0, 0, 0, 1, 0, 0, 4, 1, 0, 0, 1, 0, 0, 0, 0, 0, 4, 0, 2,\n",
       "       0, 0, 4, 4, 0, 0, 2, 0, 0, 0, 0, 0, 4, 1, 0, 0, 1, 0, 0, 0, 0, 0,\n",
       "       0, 0, 0, 0, 1, 0, 2, 1, 4, 0, 0, 0, 1, 0, 0, 0, 4, 1, 0, 0, 4, 0,\n",
       "       1, 0, 0, 0, 4, 2, 0, 1, 0, 4, 0, 2, 1, 0, 1, 0, 4, 0, 0, 0, 0, 0,\n",
       "       0, 0, 0, 0, 4, 0, 0, 1, 1, 0, 0, 0, 2, 0, 0, 0, 2, 0, 0, 0, 1, 0,\n",
       "       0, 0, 0, 4, 0, 1, 0, 2, 1, 1, 0, 0, 0, 4, 0, 0, 4, 4, 2, 0, 0, 0,\n",
       "       0, 2, 0, 0, 0, 0, 0, 2, 0, 0, 0, 0, 0, 0, 0, 0, 0, 0, 0, 0, 0, 0,\n",
       "       0, 0, 0, 0, 0, 4, 0, 0, 0, 0, 0, 0, 0, 0, 0, 0, 0, 0, 0, 0, 0, 0,\n",
       "       0, 0, 0, 0, 0, 0, 0, 0, 1, 2, 0, 0, 0, 0, 1, 1, 1, 2, 0, 4, 0, 1,\n",
       "       0, 1, 1, 1, 0, 0, 0, 0, 0, 1, 2, 0, 0, 0, 0, 1, 0, 0, 0, 4, 0, 1,\n",
       "       0, 0, 0, 0, 0, 0, 0, 1, 0, 0, 0, 0, 1, 0, 0, 0, 0, 0, 4, 1, 1, 4,\n",
       "       0, 0, 0, 0, 0, 0, 0, 0, 0, 1, 0, 0, 0, 0, 0, 0, 0, 0, 0, 0, 0, 0,\n",
       "       0, 1, 0, 4, 1, 4, 0, 0, 0, 2, 0, 1, 0, 0, 1, 0, 0, 0, 0, 0, 1, 0,\n",
       "       4, 0, 0, 0, 0, 0, 0, 0, 0, 4, 0, 0, 0, 2, 2, 4, 1, 0, 0, 0, 0, 0,\n",
       "       0, 0, 0, 1, 0, 0, 1, 0, 0, 0, 0, 0, 0, 2, 0, 0, 2, 1, 2, 1, 0, 0,\n",
       "       0, 1, 0, 0, 0, 0, 0, 4, 0, 2, 0, 1, 0, 0, 0, 0, 1, 4, 1, 0, 0, 1,\n",
       "       0, 0, 0, 0, 0, 0, 1, 0, 4, 0, 0, 0, 0, 1, 2, 1, 0, 0, 0, 0, 0, 2,\n",
       "       0, 0, 1, 0, 0, 0, 4, 0, 0, 0, 2, 0, 0, 2, 0, 0, 1, 1, 0, 0, 0, 2,\n",
       "       0, 0, 1, 2, 0, 1, 1, 0, 1, 0, 0, 0, 4, 2, 0, 0, 0, 1, 2, 0, 0, 0,\n",
       "       0, 2, 0, 0, 0, 1, 1, 0, 0, 0, 0, 1, 0, 0, 4, 0, 0, 1, 1, 0, 0, 0,\n",
       "       1, 0, 1, 0, 0, 0, 0, 0, 0, 0, 0, 2, 0, 0, 0, 0, 0, 1, 2, 0, 0, 2,\n",
       "       0, 0, 1, 0, 1, 0, 0, 0, 0, 0, 0, 0, 0, 0, 1, 0, 4, 0, 0, 0, 0, 0,\n",
       "       0, 0, 0, 1, 0, 0, 0, 0, 0, 4, 1, 1, 0, 1, 1, 0, 0, 0, 4, 1, 0, 0,\n",
       "       0, 2, 0, 0, 1, 0, 0, 1, 0, 0, 0, 0, 0, 0, 1, 1, 0, 4, 1, 2, 0, 0,\n",
       "       0, 1, 0, 4, 1, 4, 0, 4, 0, 0, 0, 4, 0, 4, 0, 0, 0, 1, 1, 1, 4, 0,\n",
       "       4, 0, 1, 1, 0, 4, 0, 0, 0, 1, 0, 0, 0, 4, 1, 0, 0, 0, 0, 0, 0, 0,\n",
       "       2, 0, 0, 0, 0, 1, 0, 0, 0, 4, 4, 0, 0, 0, 2, 0, 0, 2, 1, 0, 2, 4,\n",
       "       0, 0, 4, 2, 0, 0, 0, 0, 4, 4, 2, 1, 0, 0, 2, 0, 0, 0, 0, 4, 0, 0,\n",
       "       0, 1, 0, 0, 0, 0, 1, 0, 0, 0, 0, 4, 0, 0, 0, 2, 1, 0, 0, 2, 0, 0,\n",
       "       1, 0, 0, 0, 0, 1, 0, 0, 0, 0, 0, 0, 0, 1, 0, 0, 0, 0, 0, 4, 0, 1,\n",
       "       0, 0, 0, 0, 0, 0, 1, 4, 0, 0, 1, 4, 1, 0, 1, 1, 0, 0, 0, 0, 1, 1,\n",
       "       0, 0, 4, 0, 0, 1, 1, 0, 1, 0, 0, 1, 0, 1, 0, 3, 0, 0, 0, 0, 0, 0,\n",
       "       4, 4, 0, 1, 0, 1, 0, 0, 4, 0, 0, 0, 4, 0, 0, 0, 0, 1, 0, 0, 4, 4,\n",
       "       1, 4, 0, 0, 0, 0, 0, 0, 1, 0])"
      ]
     },
     "execution_count": 30,
     "metadata": {},
     "output_type": "execute_result"
    }
   ],
   "source": [
    "y_km"
   ]
  },
  {
   "cell_type": "code",
   "execution_count": 31,
   "id": "b25f1083",
   "metadata": {},
   "outputs": [
    {
     "data": {
      "text/plain": [
       "array([4, 0, 0, 0, 2, 0, 0, 1, 2, 2, 0, 0, 1, 0, 0, 0, 0, 0, 4, 0, 1, 1,\n",
       "       0, 1, 0, 0, 0, 2, 0, 1, 0, 0, 4, 4, 4, 1, 0, 0, 0, 0, 1, 0, 0, 2,\n",
       "       0, 1, 0, 1, 0, 0, 0, 0, 0, 0, 1, 2, 1, 0, 1, 1, 0, 4, 1, 0, 4, 2,\n",
       "       2, 0, 0, 2, 1, 0, 1, 0, 4, 1, 0, 1, 0, 0, 0, 4, 1, 4, 1, 0, 1, 0,\n",
       "       0, 0, 0, 0, 0, 0, 0, 0, 0, 0, 0, 0, 0, 1, 0, 0, 0, 0, 2, 1, 0, 0,\n",
       "       0, 0, 0, 0, 0, 0, 0, 0, 0, 4, 4, 0, 0, 1, 4, 0, 4, 0, 0, 0, 4, 0,\n",
       "       0, 1, 0, 2, 0, 0, 0, 2, 0, 1, 0, 0, 0, 1, 1, 1, 0, 0, 0, 2, 0, 0,\n",
       "       2, 0, 0, 0, 4, 0, 0, 0, 0, 0, 0, 0, 4, 0, 0, 0, 0, 0, 1, 0, 0, 0,\n",
       "       1, 1, 4, 0, 1, 0, 0, 0, 4, 0, 1, 0, 0, 0, 0, 0, 0, 0, 0, 1, 1, 0,\n",
       "       0, 0, 4, 2, 1, 2, 0, 0, 4, 1, 4, 1, 0, 0, 0, 0, 0, 0, 0, 1, 0, 0,\n",
       "       1, 1, 0, 0, 0, 0, 0, 1, 0, 4, 4, 0, 0, 0, 2, 0, 1, 0, 0, 0, 0, 0,\n",
       "       0, 0, 4, 0, 0, 4, 1, 0, 2, 0, 1, 4, 0, 0, 0, 0, 0, 0, 4, 0, 1, 0,\n",
       "       1, 0, 1, 0, 0, 0, 1, 0, 0, 4, 1, 0, 0, 1, 0, 0, 0, 0, 0, 4, 0, 2,\n",
       "       0, 0, 4, 4, 0, 0, 2, 0, 0, 0, 0, 0, 4, 1, 0, 0, 1, 0, 0, 0, 0, 0,\n",
       "       0, 0, 0, 0, 1, 0, 2, 1, 4, 0, 0, 0, 1, 0, 0, 0, 4, 1, 0, 0, 4, 0,\n",
       "       1, 0, 0, 0, 4, 2, 0, 1, 0, 4, 0, 2, 1, 0, 1, 0, 4, 0, 0, 0, 0, 0,\n",
       "       0, 0, 0, 0, 4, 0, 0, 1, 1, 0, 0, 0, 2, 0, 0, 0, 2, 0, 0, 0, 1, 0,\n",
       "       0, 0, 0, 4, 0, 1, 0, 2, 1, 1, 0, 0, 0, 4, 0, 0, 4, 4, 2, 0, 0, 0,\n",
       "       0, 2, 0, 0, 0, 0, 0, 2, 0, 0, 0, 0, 0, 0, 0, 0, 0, 0, 0, 0, 0, 0,\n",
       "       0, 0, 0, 0, 0, 4, 0, 0, 0, 0, 0, 0, 0, 0, 0, 0, 0, 0, 0, 0, 0, 0,\n",
       "       0, 0, 0, 0, 0, 0, 0, 0, 1, 2, 0, 0, 0, 0, 1, 1, 1, 2, 0, 4, 0, 1,\n",
       "       0, 1, 1, 1, 0, 0, 0, 0, 0, 1, 2, 0, 0, 0, 0, 1, 0, 0, 0, 4, 0, 1,\n",
       "       0, 0, 0, 0, 0, 0, 0, 1, 0, 0, 0, 0, 1, 0, 0, 0, 0, 0, 4, 1, 1, 4,\n",
       "       0, 0, 0, 0, 0, 0, 0, 0, 0, 1, 0, 0, 0, 0, 0, 0, 0, 0, 0, 0, 0, 0,\n",
       "       0, 1, 0, 4, 1, 4, 0, 0, 0, 2, 0, 1, 0, 0, 1, 0, 0, 0, 0, 0, 1, 0,\n",
       "       4, 0, 0, 0, 0, 0, 0, 0, 0, 4, 0, 0, 0, 2, 2, 4, 1, 0, 0, 0, 0, 0,\n",
       "       0, 0, 0, 1, 0, 0, 1, 0, 0, 0, 0, 0, 0, 2, 0, 0, 2, 1, 2, 1, 0, 0,\n",
       "       0, 1, 0, 0, 0, 0, 0, 4, 0, 2, 0, 1, 0, 0, 0, 0, 1, 4, 1, 0, 0, 1,\n",
       "       0, 0, 0, 0, 0, 0, 1, 0, 4, 0, 0, 0, 0, 1, 2, 1, 0, 0, 0, 0, 0, 2,\n",
       "       0, 0, 1, 0, 0, 0, 4, 0, 0, 0, 2, 0, 0, 2, 0, 0, 1, 1, 0, 0, 0, 2,\n",
       "       0, 0, 1, 2, 0, 1, 1, 0, 1, 0, 0, 0, 4, 2, 0, 0, 0, 1, 2, 0, 0, 0,\n",
       "       0, 2, 0, 0, 0, 1, 1, 0, 0, 0, 0, 1, 0, 0, 4, 0, 0, 1, 1, 0, 0, 0,\n",
       "       1, 0, 1, 0, 0, 0, 0, 0, 0, 0, 0, 2, 0, 0, 0, 0, 0, 1, 2, 0, 0, 2,\n",
       "       0, 0, 1, 0, 1, 0, 0, 0, 0, 0, 0, 0, 0, 0, 1, 0, 4, 0, 0, 0, 0, 0,\n",
       "       0, 0, 0, 1, 0, 0, 0, 0, 0, 4, 1, 1, 0, 1, 1, 0, 0, 0, 4, 1, 0, 0,\n",
       "       0, 2, 0, 0, 1, 0, 0, 1, 0, 0, 0, 0, 0, 0, 1, 1, 0, 4, 1, 2, 0, 0,\n",
       "       0, 1, 0, 4, 1, 4, 0, 4, 0, 0, 0, 4, 0, 4, 0, 0, 0, 1, 1, 1, 4, 0,\n",
       "       4, 0, 1, 1, 0, 4, 0, 0, 0, 1, 0, 0, 0, 4, 1, 0, 0, 0, 0, 0, 0, 0,\n",
       "       2, 0, 0, 0, 0, 1, 0, 0, 0, 4, 4, 0, 0, 0, 2, 0, 0, 2, 1, 0, 2, 4,\n",
       "       0, 0, 4, 2, 0, 0, 0, 0, 4, 4, 2, 1, 0, 0, 2, 0, 0, 0, 0, 4, 0, 0,\n",
       "       0, 1, 0, 0, 0, 0, 1, 0, 0, 0, 0, 4, 0, 0, 0, 2, 1, 0, 0, 2, 0, 0,\n",
       "       1, 0, 0, 0, 0, 1, 0, 0, 0, 0, 0, 0, 0, 1, 0, 0, 0, 0, 0, 4, 0, 1,\n",
       "       0, 0, 0, 0, 0, 0, 1, 4, 0, 0, 1, 4, 1, 0, 1, 1, 0, 0, 0, 0, 1, 1,\n",
       "       0, 0, 4, 0, 0, 1, 1, 0, 1, 0, 0, 1, 0, 1, 0, 3, 0, 0, 0, 0, 0, 0,\n",
       "       4, 4, 0, 1, 0, 1, 0, 0, 4, 0, 0, 0, 4, 0, 0, 0, 0, 1, 0, 0, 4, 4,\n",
       "       1, 4, 0, 0, 0, 0, 0, 0, 1, 0])"
      ]
     },
     "execution_count": 31,
     "metadata": {},
     "output_type": "execute_result"
    }
   ],
   "source": [
    "km.labels_"
   ]
  },
  {
   "cell_type": "code",
   "execution_count": 32,
   "id": "e2af2ca8",
   "metadata": {},
   "outputs": [
    {
     "data": {
      "text/plain": [
       "array([[0.00147929, 0.00739645, 0.00147929, ..., 0.        , 0.00591716,\n",
       "        0.00739645],\n",
       "       [0.        , 0.01775148, 0.        , ..., 0.01183432, 0.        ,\n",
       "        0.        ],\n",
       "       [0.        , 0.        , 0.        , ..., 0.        , 0.        ,\n",
       "        0.        ],\n",
       "       [0.        , 0.        , 0.        , ..., 0.        , 0.        ,\n",
       "        0.        ],\n",
       "       [0.        , 0.        , 0.        , ..., 0.        , 0.        ,\n",
       "        0.        ]])"
      ]
     },
     "execution_count": 32,
     "metadata": {},
     "output_type": "execute_result"
    }
   ],
   "source": [
    "km.cluster_centers_"
   ]
  },
  {
   "cell_type": "code",
   "execution_count": 33,
   "id": "27d96a72",
   "metadata": {},
   "outputs": [
    {
     "data": {
      "image/png": "[encoded data removed]",
      "text/plain": [
       "<Figure size 640x480 with 1 Axes>"
      ]
     },
     "metadata": {},
     "output_type": "display_data"
    }
   ],
   "source": [
    "#Plotting chart for clustering\n",
    "distortions = []\n",
    "for i in range(1, 11):\n",
    "    km = KMeans(\n",
    "        n_clusters=i, init='random',\n",
    "        n_init=10, max_iter=300,\n",
    "        tol=1e-04, random_state=0\n",
    "    )\n",
    "    km.fit(X_vectors)\n",
    "    distortions.append(km.inertia_)\n",
    "\n",
    "plt.plot(range(1, 11), distortions, marker='o')\n",
    "plt.xlabel('Number of clusters')\n",
    "plt.ylabel('Distortion')\n",
    "plt.show()"
   ]
  }
 ],
 "metadata": {
  "kernelspec": {
   "display_name": "Python 3 (ipykernel)",
   "language": "python",
   "name": "python3"
  },
  "language_info": {
   "codemirror_mode": {
    "name": "ipython",
    "version": 3
   },
   "file_extension": ".py",
   "mimetype": "text/x-python",
   "name": "python",
   "nbconvert_exporter": "python",
   "pygments_lexer": "ipython3",
   "version": "3.9.16"
  }
 },
 "nbformat": 4,
 "nbformat_minor": 5
}
